{
  "cells": [
    {
      "cell_type": "markdown",
      "metadata": {},
      "source": [
        "# Veo3 Simple Prompt-to-Video (Standalone)\n",
        "\n",
        "This notebook lets you enter your own prompt, generate a video using Google's Veo3 Fast via the Gemini API, and play it inline. It is fully standalone and uses your `GOOGLE_API_KEY` directly; no project-specific configuration is required.\n",
        "\n",
        "## Requirements\n",
        "\n",
        "- `GOOGLE_API_KEY` set in your environment (AI Studio key)\n",
        "- `google-genai` and `ipywidgets` installed (see the next cell)\n",
        "\n",
        "Tip: Veo is a paid feature. Charges may apply according to your account's pricing plan.\n"
      ]
    },
    {
      "cell_type": "code",
      "execution_count": 6,
      "metadata": {},
      "outputs": [],
      "source": [
        "# Install dependencies (uncomment if needed)\n",
        "# %pip install -U google-genai ipywidgets python-dotenv\n",
        "\n"
      ]
    },
    {
      "cell_type": "code",
      "execution_count": 7,
      "metadata": {},
      "outputs": [
        {
          "name": "stdout",
          "output_type": "stream",
          "text": [
            "✅ Libraries imported\n"
          ]
        }
      ],
      "source": [
        "# Standard library\n",
        "import os\n",
        "import time\n",
        "import mimetypes\n",
        "\n",
        "# Third-party\n",
        "from dotenv import load_dotenv\n",
        "from IPython.display import display, HTML, Video, clear_output\n",
        "import ipywidgets as widgets\n",
        "from google import genai\n",
        "from google.genai import types\n",
        "\n",
        "# Load environment (supports .env too)\n",
        "load_dotenv()\n",
        "\n",
        "print(\"✅ Libraries imported\")\n"
      ]
    },
    {
      "cell_type": "code",
      "execution_count": 8,
      "metadata": {},
      "outputs": [
        {
          "name": "stdout",
          "output_type": "stream",
          "text": [
            "🔧 Initializing Gemini client...\n",
            "✅ Client ready\n",
            "🎬 Veo Model: veo-3.0-fast-generate-preview\n",
            "📐 Aspect Ratio: 16:9\n"
          ]
        }
      ],
      "source": [
        "# Initialize client directly from GOOGLE_API_KEY\n",
        "print(\"🔧 Initializing Gemini client...\")\n",
        "api_key = os.getenv(\"GOOGLE_API_KEY\")\n",
        "if not api_key:\n",
        "    raise RuntimeError(\"GOOGLE_API_KEY is not set. Set it in your environment or .env and restart.\")\n",
        "\n",
        "client = genai.Client(api_key=api_key)\n",
        "VEO_MODEL_ID = \"veo-3.0-fast-generate-preview\"\n",
        "DEFAULT_ASPECT = \"16:9\"  # Veo 3 Fast supports 16:9 per docs\n",
        "\n",
        "print(\"✅ Client ready\")\n",
        "print(f\"🎬 Veo Model: {VEO_MODEL_ID}\")\n",
        "print(f\"📐 Aspect Ratio: {DEFAULT_ASPECT}\")\n"
      ]
    },
    {
      "cell_type": "code",
      "execution_count": null,
      "metadata": {},
      "outputs": [
        {
          "name": "stdout",
          "output_type": "stream",
          "text": [
            "✅ Video generator ready\n"
          ]
        }
      ],
      "source": [
        "class SimpleVeoVideoGenerator:\n",
        "    def __init__(self, client):\n",
        "        self.client = client\n",
        "\n",
        "    def generate(\n",
        "        self,\n",
        "        *,\n",
        "        prompt: str,\n",
        "        model: str,\n",
        "        negative_prompt: str | None = None,\n",
        "        image: types.Image | None = None,\n",
        "        progress=None,\n",
        "    ):\n",
        "        if not prompt or not prompt.strip():\n",
        "            raise ValueError(\"Prompt must not be empty\")\n",
        "\n",
        "        if progress:\n",
        "            progress(\"🚀 Starting video generation...\")\n",
        "\n",
        "        # NOTE: `person_generation` is intentionally omitted from the\n",
        "        # configuration because certain values (e.g. \"dont_allow\") currently\n",
        "        # cause the API to return a 400 INVALID_ARGUMENT:\n",
        "        #   {'error': {'code': 400, 'message': 'dont_allow for personGeneration is currently not supported.', 'status': 'INVALID_ARGUMENT'}}\n",
        "        # Re-introduce person_generation handling here once the Veo API\n",
        "        # supports it.\n",
        "        cfg_kwargs = dict(\n",
        "            aspect_ratio=DEFAULT_ASPECT,\n",
        "            number_of_videos=1,\n",
        "        )\n",
        "        if negative_prompt:\n",
        "            cfg_kwargs[\"negative_prompt\"] = negative_prompt\n",
        "\n",
        "        operation = self.client.models.generate_videos(\n",
        "            model=model,\n",
        "            prompt=prompt,\n",
        "            image=image,\n",
        "            config=types.GenerateVideosConfig(**cfg_kwargs),\n",
        "        )\n",
        "\n",
        "        # Poll the long-running operation with a bounded deadline to avoid\n",
        "        # indefinite hanging. Allow configurable timeout and poll interval.\n",
        "        start = time.time()\n",
        "        timeout = 300  # seconds, adjust as needed (5 minutes default)\n",
        "        poll_interval = 5\n",
        "\n",
        "        # The operations.get method accepts either the operation object or its\n",
        "        # name/identifier; normalize to the name if present so repeated calls\n",
        "        # refresh status reliably.\n",
        "        op_ref = getattr(operation, \"name\", operation)\n",
        "\n",
        "        while True:\n",
        "            # Refresh operation status\n",
        "            operation = self.client.operations.get(op_ref)\n",
        "            done = getattr(operation, \"done\", False)\n",
        "            if done:\n",
        "                break\n",
        "\n",
        "            elapsed = time.time() - start\n",
        "            if elapsed >= timeout:\n",
        "                raise TimeoutError(f\"Generation did not complete within {timeout:.0f}s (operation={op_ref})\")\n",
        "\n",
        "            if progress:\n",
        "                progress(f\"⏳ Generating... elapsed {elapsed:.0f}s\")\n",
        "\n",
        "            time.sleep(poll_interval)\n",
        "\n",
        "        # If the operation ended with an error, raise a clear exception.\n",
        "        if getattr(operation, \"error\", None):\n",
        "            err_msg = getattr(operation, \"error\", None)\n",
        "            raise RuntimeError(f\"Generation failed: {getattr(err_msg, 'message', 'Unknown error')}\")\n",
        "\n",
        "        video_data = operation.result.generated_videos[0]\n",
        "\n",
        "        # Download/cache then save to get bytes\n",
        "        self.client.files.download(file=video_data.video)\n",
        "        tmp_name = f\"generated_video_{int(time.time())}.mp4\"\n",
        "        video_data.video.save(tmp_name)\n",
        "        with open(tmp_name, \"rb\") as f:\n",
        "            video_bytes = f.read()\n",
        "        os.remove(tmp_name)\n",
        "\n",
        "        return {\n",
        "            \"video_bytes\": video_bytes,\n",
        "            \"operation_id\": operation.name,\n",
        "            \"elapsed\": time.time() - start,\n",
        "            \"aspect_ratio\": DEFAULT_ASPECT,\n",
        "            \"prompt\": prompt,\n",
        "            \"model\": model,\n",
        "            \"negative_prompt\": negative_prompt or \"\",\n",
        "        }\n",
        "\n",
        "    def save(self, video_bytes: bytes, filename: str | None = None) -> str:\n",
        "        if not video_bytes:\n",
        "            raise ValueError(\"No bytes to save\")\n",
        "        name = filename or f\"generated_video_{int(time.time())}.mp4\"\n",
        "        with open(name, \"wb\") as f:\n",
        "            f.write(video_bytes)\n",
        "        return name\n",
        "\n",
        "    def display(self, video_bytes: bytes, width: int = 720) -> str:\n",
        "        path = self.save(video_bytes)\n",
        "        display(Video(path, embed=True, width=width))\n",
        "        return path\n",
        "\n",
        "video_gen = SimpleVeoVideoGenerator(client)\n",
        "print(\"✅ Video generator ready\")\n"
      ]
    },
    {
      "cell_type": "code",
      "execution_count": null,
      "metadata": {},
      "outputs": [
        {
          "data": {
            "text/html": [
              "<h3>Enter Prompt</h3>"
            ],
            "text/plain": [
              "<IPython.core.display.HTML object>"
            ]
          },
          "metadata": {},
          "output_type": "display_data"
        },
        {
          "data": {
            "application/vnd.jupyter.widget-view+json": {
              "model_id": "b62677699fca4317b83b8db2de3fc0a4",
              "version_major": 2,
              "version_minor": 0
            },
            "text/plain": [
              "Dropdown(description='Samples:', layout=Layout(width='100%'), options=(('Choose a sample prompt…', ''), ('Cine…"
            ]
          },
          "metadata": {},
          "output_type": "display_data"
        },
        {
          "data": {
            "application/vnd.jupyter.widget-view+json": {
              "model_id": "e615b9332a9f4fdf8e0562b0cad7a307",
              "version_major": 2,
              "version_minor": 0
            },
            "text/plain": [
              "Textarea(value='Cinematic wide shot of a misty pine forest at sunrise; slow push-in; golden backlight through …"
            ]
          },
          "metadata": {},
          "output_type": "display_data"
        },
        {
          "data": {
            "application/vnd.jupyter.widget-view+json": {
              "model_id": "0cacfd14e8d14e009c11a888fbc0bde8",
              "version_major": 2,
              "version_minor": 0
            },
            "text/plain": [
              "HBox(children=(Dropdown(description='Model:', options=(('Veo 3 Fast (recommended)', 'veo-3.0-fast-generate-pre…"
            ]
          },
          "metadata": {},
          "output_type": "display_data"
        },
        {
          "data": {
            "application/vnd.jupyter.widget-view+json": {
              "model_id": "fa3736bbc25d468fabe11b9d1a86714d",
              "version_major": 2,
              "version_minor": 0
            },
            "text/plain": [
              "VBox(children=(Text(value='', description='Negative:', layout=Layout(width='100%'), placeholder='What to avoid…"
            ]
          },
          "metadata": {},
          "output_type": "display_data"
        },
        {
          "data": {
            "application/vnd.jupyter.widget-view+json": {
              "model_id": "af25d6baf7d64476954f4f233f340364",
              "version_major": 2,
              "version_minor": 0
            },
            "text/plain": [
              "Checkbox(value=False, description='I acknowledge Veo is a paid feature', indent=False)"
            ]
          },
          "metadata": {},
          "output_type": "display_data"
        },
        {
          "data": {
            "application/vnd.jupyter.widget-view+json": {
              "model_id": "75f880170d17414d89b0a73e5eefa85a",
              "version_major": 2,
              "version_minor": 0
            },
            "text/plain": [
              "Button(button_style='success', description='🎬 Generate Video', layout=Layout(width='200px'), style=ButtonStyle…"
            ]
          },
          "metadata": {},
          "output_type": "display_data"
        },
        {
          "data": {
            "application/vnd.jupyter.widget-view+json": {
              "model_id": "1b649d572841406da55ba7ae4f12bacf",
              "version_major": 2,
              "version_minor": 0
            },
            "text/plain": [
              "Output()"
            ]
          },
          "metadata": {},
          "output_type": "display_data"
        },
        {
          "data": {
            "text/html": [
              "<h3>Output</h3>"
            ],
            "text/plain": [
              "<IPython.core.display.HTML object>"
            ]
          },
          "metadata": {},
          "output_type": "display_data"
        },
        {
          "data": {
            "application/vnd.jupyter.widget-view+json": {
              "model_id": "c1eb1d0437744c8a9edde878b8a88499",
              "version_major": 2,
              "version_minor": 0
            },
            "text/plain": [
              "Output()"
            ]
          },
          "metadata": {},
          "output_type": "display_data"
        }
      ],
      "source": [
        "# UI: Prompt input + flexible controls\n",
        "SAMPLE_PROMPTS = [\n",
        "    \"Cinematic wide shot of a misty pine forest at sunrise; slow push-in; golden backlight through fog; shallow depth of field; crisp details on dew; natural ambience with distant birdsong.\",\n",
        "    \"Handheld medium shot inside a cozy coffee shop; warm tungsten lighting; rack focus from latte art to barista; gentle background chatter and soft jazz.\",\n",
        "    \"Aerial establishing shot over a coastal cliff at golden hour; slow orbit; dramatic waves crashing; wide dynamic range and clean highlights; natural ocean ambience.\"\n",
        "]\n",
        "\n",
        "prompt_input = widgets.Textarea(\n",
        "    value=SAMPLE_PROMPTS[0],\n",
        "    placeholder=\"Describe the scene you want... Include shot type, camera move, lighting, and style.\",\n",
        "    description=\"Prompt:\",\n",
        "    layout=widgets.Layout(width=\"100%\", height=\"80px\")\n",
        ")\n",
        "\n",
        "sample_dropdown = widgets.Dropdown(\n",
        "    options=[(\"Choose a sample prompt…\", \"\")] + [(p[:80] + (\"…\" if len(p) > 80 else \"\"), p) for p in SAMPLE_PROMPTS],\n",
        "    value=\"\",\n",
        "    description=\"Samples:\",\n",
        "    style={'description_width': 'initial'},\n",
        "    layout=widgets.Layout(width=\"100%\")\n",
        ")\n",
        "\n",
        "def on_sample_change(change):\n",
        "    if change[\"name\"] == \"value\" and change[\"new\"]:\n",
        "        prompt_input.value = change[\"new\"]\n",
        "        sample_dropdown.value = \"\"\n",
        "\n",
        "sample_dropdown.observe(on_sample_change, names=\"value\")\n",
        "\n",
        "model_dropdown = widgets.Dropdown(\n",
        "    options=[\n",
        "        (\"Veo 3 Fast (recommended)\", \"veo-3.0-fast-generate-preview\"),\n",
        "        (\"Veo 3 (higher quality)\", \"veo-3.0-generate-preview\"),\n",
        "        (\"Veo 2 (legacy, no audio)\", \"veo-2.0-generate-001\"),\n",
        "    ],\n",
        "    value=VEO_MODEL_ID,\n",
        "    description=\"Model:\",\n",
        "    style={'description_width': 'initial'}\n",
        ")\n",
        "\n",
        "negative_input = widgets.Text(\n",
        "    value=\"\",\n",
        "    placeholder=\"What to avoid (e.g., text overlays, low quality)\",\n",
        "    description=\"Negative:\",\n",
        "    style={'description_width': 'initial'},\n",
        "    layout=widgets.Layout(width=\"100%\")\n",
        ")\n",
        "\n",
        "image_upload = widgets.FileUpload(\n",
        "    accept=\"image/*\",\n",
        "    multiple=False,\n",
        "    description=\"Upload image (optional)\"\n",
        ")\n",
        "\n",
        "ack_checkbox = widgets.Checkbox(\n",
        "    value=False,\n",
        "    description=\"I acknowledge Veo is a paid feature\",\n",
        "    indent=False\n",
        ")\n",
        "\n",
        "generate_btn = widgets.Button(\n",
        "    description=\"🎬 Generate Video\",\n",
        "    button_style=\"success\",\n",
        "    layout=widgets.Layout(width=\"200px\")\n",
        ")\n",
        "\n",
        "progress_out = widgets.Output()\n",
        "video_out = widgets.Output()\n",
        "\n",
        "\n",
        "def _build_image_from_upload(uploader: widgets.FileUpload) -> types.Image | None:\n",
        "    if not uploader.value:\n",
        "        return None\n",
        "    # Support ipywidgets v7 (tuple of dicts) and v8 (dict mapping)\n",
        "    file_obj = None\n",
        "    if isinstance(uploader.value, dict):\n",
        "        # v8 format: {filename: {\"content\": bytes, \"metadata\": {\"name\":..., \"type\":...}}}\n",
        "        key = next(iter(uploader.value))\n",
        "        entry = uploader.value[key]\n",
        "        content = entry.get(\"content\")\n",
        "        mime = entry.get(\"metadata\", {}).get(\"type\") or entry.get(\"type\")\n",
        "        name = entry.get(\"metadata\", {}).get(\"name\", key)\n",
        "        if not mime and name:\n",
        "            mime = mimetypes.guess_type(name)[0]\n",
        "        return types.Image(image_bytes=content, mime_type=mime or \"image/png\")\n",
        "    else:\n",
        "        # v7 format: tuple of dicts with keys: 'name','type','size','content'\n",
        "        file_obj = next(iter(uploader.value))\n",
        "        content = file_obj.get(\"content\")\n",
        "        mime = file_obj.get(\"type\")\n",
        "        name = file_obj.get(\"name\")\n",
        "        if not mime and name:\n",
        "            mime = mimetypes.guess_type(name)[0]\n",
        "        return types.Image(image_bytes=content, mime_type=mime or \"image/png\")\n",
        "\n",
        "\n",
        "def on_generate_clicked(_):\n",
        "    with progress_out:\n",
        "        clear_output(wait=True)\n",
        "        print(\"Validating input...\")\n",
        "    with video_out:\n",
        "        clear_output(wait=True)\n",
        "\n",
        "    if not ack_checkbox.value:\n",
        "        with progress_out:\n",
        "            print(\"⚠️ Please acknowledge that Veo is a paid feature before proceeding.\")\n",
        "        return\n",
        "\n",
        "    text = prompt_input.value.strip()\n",
        "    if not text:\n",
        "        with progress_out:\n",
        "            print(\"❌ Please enter a prompt\")\n",
        "        return\n",
        "\n",
        "    selected_model = model_dropdown.value\n",
        "    negative = negative_input.value.strip() or None\n",
        "    img = _build_image_from_upload(image_upload)\n",
        "\n",
        "    def report(msg: str):\n",
        "        with progress_out:\n",
        "            print(msg)\n",
        "\n",
        "    try:\n",
        "        result = video_gen.generate(\n",
        "            prompt=text,\n",
        "            model=selected_model,\n",
        "            negative_prompt=negative,\n",
        "            image=img,\n",
        "            progress=report,\n",
        "        )\n",
        "        with video_out:\n",
        "            print(\"\\n🎉 Generation complete!\")\n",
        "            print(f\"⏱️ Time: {result['elapsed']:.1f}s | Aspect: {result['aspect_ratio']}\")\n",
        "            if result[\"negative_prompt\"]:\n",
        "                print(f\"🚫 Negative: {result['negative_prompt']}\")\n",
        "            path = video_gen.display(result[\"video_bytes\"], width=720)\n",
        "            print(f\"💾 Saved: {path}\")\n",
        "    except Exception as e:\n",
        "        with video_out:\n",
        "            print(f\"❌ Error: {e}\")\n",
        "\n",
        "\n",
        "generate_btn.on_click(on_generate_clicked)\n",
        "\n",
        "# Layout\n",
        "controls_row = widgets.HBox([model_dropdown])\n",
        "advanced_box = widgets.VBox([negative_input, image_upload])\n",
        "\n",
        "display(HTML(\"<h3>Enter Prompt</h3>\"))\n",
        "display(sample_dropdown)\n",
        "display(prompt_input)\n",
        "display(controls_row)\n",
        "display(advanced_box)\n",
        "display(ack_checkbox)\n",
        "display(generate_btn)\n",
        "display(progress_out)\n",
        "display(HTML(\"<h3>Output</h3>\"))\n",
        "display(video_out)\n"
      ]
    },
    {
      "cell_type": "markdown",
      "metadata": {},
      "source": [
        "## Notes and Best Practices\n",
        "\n",
        "- Standalone: reads `GOOGLE_API_KEY` and initializes the Gemini client directly.\n",
        "- Flexibility: choose model (Veo 3 Fast / Veo 3 / Veo 2), optionally add a negative prompt, and optionally upload an image for image-to-video.\n",
        "- People policy: `person_generation` is intentionally omitted due to known API constraints that return INVALID_ARGUMENT for certain values; re-enable when supported by the Veo API.\n",
        "- Aspect ratio: fixed to `16:9` to align with Veo 3 Fast guidance.\n",
        "- The helper downloads and saves the video before displaying (per official examples).\n",
        "- Set `GOOGLE_API_KEY` via your environment or a `.env` file. Examples:\n",
        "  - macOS/Linux: `export GOOGLE_API_KEY=\"your-key\"`\n",
        "  - Windows (PowerShell): `$Env:GOOGLE_API_KEY=\"your-key\"`\n",
        "- Costs: Veo usage is billed. Review pricing and your quotas.\n",
        "- Troubleshooting:\n",
        "  - API key validity\n",
        "  - Model availability in your region\n",
        "  - Prompt content safety (no prohibited content)\n",
        "\n",
        "You're ready to experiment: enter a prompt, pick options, and click Generate.\n"
      ]
    }
  ],
  "metadata": {
    "kernelspec": {
      "display_name": ".venv",
      "language": "python",
      "name": "python3"
    },
    "language_info": {
      "codemirror_mode": {
        "name": "ipython",
        "version": 3
      },
      "file_extension": ".py",
      "mimetype": "text/x-python",
      "name": "python",
      "nbconvert_exporter": "python",
      "pygments_lexer": "ipython3",
      "version": "3.11.12"
    }
  },
  "nbformat": 4,
  "nbformat_minor": 2
}
